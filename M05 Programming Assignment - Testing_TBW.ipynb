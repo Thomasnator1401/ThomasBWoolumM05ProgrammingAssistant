{
 "cells": [
  {
   "cell_type": "code",
   "execution_count": 2,
   "id": "cfd39f43",
   "metadata": {},
   "outputs": [],
   "source": [
    "def test_add():\n",
    "    assert add(2, 2) == 4\n"
   ]
  },
  {
   "cell_type": "code",
   "execution_count": null,
   "id": "d3a3e6fb",
   "metadata": {},
   "outputs": [],
   "source": []
  }
 ],
 "metadata": {
  "kernelspec": {
   "display_name": "Python 3 (ipykernel)",
   "language": "python",
   "name": "python3"
  },
  "language_info": {
   "codemirror_mode": {
    "name": "ipython",
    "version": 3
   },
   "file_extension": ".py",
   "mimetype": "text/x-python",
   "name": "python",
   "nbconvert_exporter": "python",
   "pygments_lexer": "ipython3",
   "version": "3.11.5"
  }
 },
 "nbformat": 4,
 "nbformat_minor": 5
}
